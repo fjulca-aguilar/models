{
 "cells": [
  {
   "cell_type": "markdown",
   "metadata": {},
   "source": [
    "# Object Detection Demo\n",
    "Welcome to the object detection inference walkthrough!  This notebook will walk you step by step through the process of using a pre-trained model to detect objects in an image. Make sure to follow the [installation instructions](https://github.com/tensorflow/models/blob/master/object_detection/g3doc/installation.md) before you start."
   ]
  },
  {
   "cell_type": "markdown",
   "metadata": {},
   "source": [
    "# Imports"
   ]
  },
  {
   "cell_type": "code",
   "execution_count": 1,
   "metadata": {
    "collapsed": true,
    "scrolled": true
   },
   "outputs": [],
   "source": [
    "import numpy as np\n",
    "import os\n",
    "import six.moves.urllib as urllib\n",
    "import sys\n",
    "import tarfile\n",
    "import tensorflow as tf\n",
    "import zipfile\n",
    "\n",
    "from collections import defaultdict\n",
    "from io import StringIO\n",
    "from matplotlib import pyplot as plt\n",
    "from PIL import Image\n",
    "os.chdir('../')"
   ]
  },
  {
   "cell_type": "markdown",
   "metadata": {},
   "source": [
    "## Env setup"
   ]
  },
  {
   "cell_type": "code",
   "execution_count": 2,
   "metadata": {
    "collapsed": true
   },
   "outputs": [],
   "source": [
    "# This is needed to display the images.\n",
    "%matplotlib inline\n",
    "# This is needed since the notebook is stored in the object_detection folder.\n",
    "# sys.path.append(\"..\")\n",
    "\n",
    "from object_detection.data.flowchart_files import val_set"
   ]
  },
  {
   "cell_type": "markdown",
   "metadata": {},
   "source": [
    "## Object detection imports\n",
    "Here are the imports from the object detection module."
   ]
  },
  {
   "cell_type": "code",
   "execution_count": 3,
   "metadata": {
    "collapsed": true
   },
   "outputs": [],
   "source": [
    "from utils import label_map_util\n",
    "\n",
    "from utils import visualization_utils as vis_util"
   ]
  },
  {
   "cell_type": "markdown",
   "metadata": {},
   "source": [
    "# Model preparation "
   ]
  },
  {
   "cell_type": "markdown",
   "metadata": {},
   "source": [
    "## Variables\n",
    "\n",
    "Any model exported using the `export_inference_graph.py` tool can be loaded here simply by changing `PATH_TO_CKPT` to point to a new .pb file.  \n",
    "\n",
    "By default we use an \"SSD with Mobilenet\" model here. See the [detection model zoo](https://github.com/tensorflow/models/blob/master/object_detection/g3doc/detection_model_zoo.md) for a list of other models that can be run out-of-the-box with varying speeds and accuracies."
   ]
  },
  {
   "cell_type": "code",
   "execution_count": 4,
   "metadata": {
    "collapsed": true
   },
   "outputs": [],
   "source": [
    "# What model to download.\n",
    "MODEL_NAME = 'object_detection/models/faster_rcnn_resnet101_coco_11_06_2017/flowchart_inference_graph' #'ssd_mobilenet_v1_coco_11_06_2017'\n",
    "MODEL_FILE = MODEL_NAME + '.tar.gz'\n",
    "DOWNLOAD_BASE = 'http://download.tensorflow.org/models/object_detection/'\n",
    "\n",
    "# Path to frozen detection graph. This is the actual model that is used for the object detection.\n",
    "PATH_TO_CKPT = MODEL_NAME + '/frozen_inference_graph.pb'\n",
    "\n",
    "# List of the strings that is used to add correct label for each box.\n",
    "PATH_TO_LABELS = os.path.join('object_detection/data', 'flochart_label_map.pbtxt') #'mscoco_label_map.pbtxt')\n",
    "\n",
    "NUM_CLASSES = 7 #90"
   ]
  },
  {
   "cell_type": "markdown",
   "metadata": {},
   "source": [
    "## Download Model"
   ]
  },
  {
   "cell_type": "code",
   "execution_count": 5,
   "metadata": {
    "collapsed": true
   },
   "outputs": [],
   "source": [
    "# opener = urllib.request.URLopener()\n",
    "# opener.retrieve(DOWNLOAD_BASE + MODEL_FILE, MODEL_FILE)\n",
    "# tar_file = tarfile.open(MODEL_FILE)\n",
    "# for file in tar_file.getmembers():\n",
    "#   file_name = os.path.basename(file.name)\n",
    "#   if 'frozen_inference_graph.pb' in file_name:\n",
    "#     tar_file.extract(file, os.getcwd())"
   ]
  },
  {
   "cell_type": "markdown",
   "metadata": {},
   "source": [
    "## Load a (frozen) Tensorflow model into memory."
   ]
  },
  {
   "cell_type": "code",
   "execution_count": 6,
   "metadata": {
    "collapsed": true
   },
   "outputs": [],
   "source": [
    "detection_graph = tf.Graph()\n",
    "with detection_graph.as_default():\n",
    "  od_graph_def = tf.GraphDef()\n",
    "  with tf.gfile.GFile(PATH_TO_CKPT, 'rb') as fid:\n",
    "    serialized_graph = fid.read()\n",
    "    od_graph_def.ParseFromString(serialized_graph)\n",
    "    tf.import_graph_def(od_graph_def, name='')"
   ]
  },
  {
   "cell_type": "markdown",
   "metadata": {},
   "source": [
    "## Loading label map\n",
    "Label maps map indices to category names, so that when our convolution network predicts `5`, we know that this corresponds to `airplane`.  Here we use internal utility functions, but anything that returns a dictionary mapping integers to appropriate string labels would be fine"
   ]
  },
  {
   "cell_type": "code",
   "execution_count": 7,
   "metadata": {
    "collapsed": true
   },
   "outputs": [],
   "source": [
    "label_map = label_map_util.load_labelmap(PATH_TO_LABELS)\n",
    "categories = label_map_util.convert_label_map_to_categories(label_map, max_num_classes=NUM_CLASSES, use_display_name=True)\n",
    "category_index = label_map_util.create_category_index(categories)"
   ]
  },
  {
   "cell_type": "markdown",
   "metadata": {},
   "source": [
    "## Helper code"
   ]
  },
  {
   "cell_type": "code",
   "execution_count": 8,
   "metadata": {
    "collapsed": true
   },
   "outputs": [],
   "source": [
    "def load_image_into_numpy_array(image):\n",
    "  (im_width, im_height) = image.size\n",
    "#   x = np.array(image.getdata()).reshape((im_height, im_width)).astype(np.uint8)\n",
    "#   x3 = x[:, :, None] * np.ones(3, dtype=int)[None, None, :]\n",
    "#   print(x3.shape)\n",
    "#   return x3.astype(np.uint8)\n",
    "  return np.array(image.getdata()).reshape(\n",
    "      (im_height, im_width, 3)).astype(np.uint8)"
   ]
  },
  {
   "cell_type": "markdown",
   "metadata": {},
   "source": [
    "# Detection"
   ]
  },
  {
   "cell_type": "code",
   "execution_count": 9,
   "metadata": {
    "collapsed": true
   },
   "outputs": [],
   "source": [
    "# For the sake of simplicity we will use only 2 images:\n",
    "# image1.jpg\n",
    "# image2.jpg\n",
    "# If you want to test the code with your images, just add path to the images to the TEST_IMAGE_PATHS.\n",
    "PATH_TO_TEST_IMAGES_DIR = 'object_detection/flowcharts/' #'test_images'\n",
    "\n",
    "TEST_IMAGE_PATHS = [(PATH_TO_TEST_IMAGES_DIR + x + '.jpg') for x in val_set] #[ os.path.join(PATH_TO_TEST_IMAGES_DIR, 'image{}.jpg'.format(i)) for i in range(1, 3) ]\n",
    "# Size, in inches, of the output images.\n",
    "#IMAGE_SIZE = (12, 8)\n",
    "IMAGE_SIZE = (12, 12)\n"
   ]
  },
  {
   "cell_type": "code",
   "execution_count": 11,
   "metadata": {
    "scrolled": true
   },
   "outputs": [
    {
     "name": "stdout",
     "output_type": "stream",
     "text": [
      "object_detection/flowcharts/writer30_1.jpg\n",
      "object_detection/flowcharts/writer8_6.jpg\n",
      "object_detection/flowcharts/writer13_8.jpg\n",
      "object_detection/flowcharts/writer4_7.jpg\n",
      "object_detection/flowcharts/writer27_2.jpg\n",
      "object_detection/flowcharts/writer34_10.jpg\n",
      "object_detection/flowcharts/writer26_3.jpg\n",
      "object_detection/flowcharts/writer6_14.jpg\n",
      "object_detection/flowcharts/writer12_3.jpg\n",
      "object_detection/flowcharts/writer5_3.jpg\n",
      "object_detection/flowcharts/writer19_1.jpg\n",
      "object_detection/flowcharts/writer2_1.jpg\n",
      "object_detection/flowcharts/writer11_2_.jpg\n",
      "object_detection/flowcharts/writer18_8.jpg\n",
      "object_detection/flowcharts/writer13_12.jpg\n",
      "object_detection/flowcharts/writer19_4.jpg\n",
      "object_detection/flowcharts/writer1_2.jpg\n",
      "object_detection/flowcharts/writer12_1_.jpg\n",
      "object_detection/flowcharts/writer9_5.jpg\n",
      "object_detection/flowcharts/writer30_6.jpg\n",
      "object_detection/flowcharts/writer21_8.jpg\n",
      "object_detection/flowcharts/writer24_10.jpg\n",
      "object_detection/flowcharts/writer7_10.jpg\n",
      "object_detection/flowcharts/writer6_10.jpg\n",
      "object_detection/flowcharts/writer1_7.jpg\n",
      "object_detection/flowcharts/writer17_8.jpg\n",
      "object_detection/flowcharts/writer30_7.jpg\n",
      "object_detection/flowcharts/writer31_7.jpg\n",
      "object_detection/flowcharts/writer31_6.jpg\n",
      "object_detection/flowcharts/writer30_4.jpg\n",
      "object_detection/flowcharts/writer5_6.jpg\n",
      "object_detection/flowcharts/writer31_1.jpg\n",
      "object_detection/flowcharts/writer24_8.jpg\n",
      "object_detection/flowcharts/writer13_10.jpg\n",
      "object_detection/flowcharts/writer34_13.jpg\n",
      "object_detection/flowcharts/writer13_2.jpg\n",
      "object_detection/flowcharts/writer30_12.jpg\n",
      "object_detection/flowcharts/writer20_3.jpg\n",
      "object_detection/flowcharts/writer5_10.jpg\n",
      "object_detection/flowcharts/writer2_2.jpg\n",
      "object_detection/flowcharts/writer30_8.jpg\n",
      "object_detection/flowcharts/writer4_12.jpg\n",
      "object_detection/flowcharts/writer21_14.jpg\n",
      "object_detection/flowcharts/writer30_11.jpg\n",
      "object_detection/flowcharts/writer5_1.jpg\n",
      "object_detection/flowcharts/writer30_2.jpg\n",
      "object_detection/flowcharts/writer20_6.jpg\n",
      "object_detection/flowcharts/writer30_5.jpg\n",
      "object_detection/flowcharts/writer8_3.jpg\n",
      "object_detection/flowcharts/writer14_7.jpg\n"
     ]
    }
   ],
   "source": [
    "import scipy.misc as misc\n",
    "out_imgs_dir = 'out_images/'\n",
    "with detection_graph.as_default():\n",
    "  with tf.Session(graph=detection_graph) as sess:\n",
    "    for image_path in TEST_IMAGE_PATHS:\n",
    "      print(image_path)\n",
    "      image = Image.open(image_path)\n",
    "      # the array based representation of the image will be used later in order to prepare the\n",
    "      # result image with boxes and labels on it.\n",
    "      image_np = load_image_into_numpy_array(image)\n",
    "#       image_np = misc.imread(image_path, mode='RGB')\n",
    "      # Expand dimensions since the model expects images to have shape: [1, None, None, 3]\n",
    "      image_np_expanded = np.expand_dims(image_np, axis=0)\n",
    "      image_tensor = detection_graph.get_tensor_by_name('image_tensor:0')\n",
    "      # Each box represents a part of the image where a particular object was detected.\n",
    "      boxes = detection_graph.get_tensor_by_name('detection_boxes:0')\n",
    "      # Each score represent how level of confidence for each of the objects.\n",
    "      # Score is shown on the result image, together with the class label.\n",
    "      scores = detection_graph.get_tensor_by_name('detection_scores:0')\n",
    "      classes = detection_graph.get_tensor_by_name('detection_classes:0')\n",
    "      num_detections = detection_graph.get_tensor_by_name('num_detections:0')\n",
    "      # Actual detection.\n",
    "      (boxes, scores, classes, num_detections) = sess.run(\n",
    "          [boxes, scores, classes, num_detections],\n",
    "          feed_dict={image_tensor: image_np_expanded})\n",
    "      # Visualization of the results of a detection.\n",
    "      vis_util.visualize_boxes_and_labels_on_image_array(\n",
    "          image_np,\n",
    "          np.squeeze(boxes),\n",
    "          np.squeeze(classes).astype(np.int32),\n",
    "          np.squeeze(scores),\n",
    "          category_index,\n",
    "          use_normalized_coordinates=True,\n",
    "          line_thickness=3, max_boxes_to_draw=None)\n",
    "      misc.imsave(out_imgs_dir + os.path.basename(image_path), image_np)\n",
    "#       plt.figure(figsize=IMAGE_SIZE)\n",
    "#       plt.imshow(image_np)"
   ]
  },
  {
   "cell_type": "code",
   "execution_count": null,
   "metadata": {
    "collapsed": true
   },
   "outputs": [],
   "source": []
  }
 ],
 "metadata": {
  "kernelspec": {
   "display_name": "Python 3",
   "language": "python",
   "name": "python3"
  },
  "language_info": {
   "codemirror_mode": {
    "name": "ipython",
    "version": 3
   },
   "file_extension": ".py",
   "mimetype": "text/x-python",
   "name": "python",
   "nbconvert_exporter": "python",
   "pygments_lexer": "ipython3",
   "version": "3.5.3"
  }
 },
 "nbformat": 4,
 "nbformat_minor": 2
}
